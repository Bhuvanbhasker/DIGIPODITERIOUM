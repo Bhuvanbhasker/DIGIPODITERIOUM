{
 "cells": [
  {
   "cell_type": "code",
   "execution_count": 14,
   "metadata": {},
   "outputs": [],
   "source": [
    "x = [] # empty list \n",
    "a = [1,2,3,4,5]\n",
    "b = ['alex', 'shivam', 'amit']\n",
    "c = ['alex', 12, 'alex', 15, 'alexis', 10]\n",
    "d = [[1,2,3,4,], [1,2],[1,2,4,5,6]]\n"
   ]
  },
  {
   "cell_type": "code",
   "execution_count": 15,
   "metadata": {},
   "outputs": [
    {
     "name": "stdout",
     "output_type": "stream",
     "text": [
      "[1, 1, 1, 1, 1, 1, 1, 1, 1, 1]\n",
      "[1, 2, 3, 1, 2, 3, 1, 2, 3]\n"
     ]
    }
   ],
   "source": [
    "w = [1] * 10 #list duplication \n",
    "print(w)\n",
    "w2 = [1,2,3] * 3\n",
    "print(w2)\n"
   ]
  },
  {
   "cell_type": "code",
   "execution_count": 16,
   "metadata": {},
   "outputs": [
    {
     "name": "stdout",
     "output_type": "stream",
     "text": [
      "[1, 2, 3, 4, 5, 6]\n",
      "[[1, 2, 3], [4, 5, 6]]\n"
     ]
    }
   ],
   "source": [
    "a = [1,2,3]\n",
    "b = [4,5,6]\n",
    "c =a+b # list concatanation\n",
    "print(c)\n",
    "\n",
    "d = [a,b]# nested list\n",
    "print(d)"
   ]
  },
  {
   "cell_type": "code",
   "execution_count": 17,
   "metadata": {},
   "outputs": [
    {
     "name": "stdout",
     "output_type": "stream",
     "text": [
      "[1, 2, 3]\n",
      "[1, 2, 3, 4, 5]\n",
      "[4, 5, 6]\n",
      "[1, 2, 3, 4, 5, 6, 7, 8, 9]\n",
      "[9, 8, 7, 6, 5, 4, 3, 2, 1]\n",
      "[1, 3, 5, 7, 9]\n",
      "[2, 4, 6, 8]\n"
     ]
    }
   ],
   "source": [
    "x = [1,2,3,4,5,6,7,8,9]\n",
    "print(x[:3])\n",
    "print(x[:-4])\n",
    "print(x[3:-3])\n",
    "\n",
    "print(x)\n",
    "print(x[::-1]) #reverse element \n",
    "print(x[::2]) #all element with  even indexed\n",
    "print(x[1::2]) #all element with  odd indexed\n",
    "\n"
   ]
  },
  {
   "cell_type": "code",
   "execution_count": 18,
   "metadata": {},
   "outputs": [
    {
     "name": "stdout",
     "output_type": "stream",
     "text": [
      "1\n",
      "9\n"
     ]
    }
   ],
   "source": [
    "print(x[0])  #first element\n",
    "print(x[-1])"
   ]
  },
  {
   "cell_type": "code",
   "execution_count": 19,
   "metadata": {},
   "outputs": [
    {
     "name": "stdout",
     "output_type": "stream",
     "text": [
      "123456789"
     ]
    }
   ],
   "source": [
    "#traversal \n",
    "for i in x:\n",
    "    print(i, end='')"
   ]
  },
  {
   "cell_type": "markdown",
   "metadata": {},
   "source": [
    "methods \n",
    "- add\n",
    "   - append\n",
    "   - extend\n",
    "   - insert\n",
    "- remove\n",
    "   - remove\n",
    "   - pop\n",
    "   - clear\n",
    "- helper\n",
    "   - index\n",
    "   - count\n",
    "   - sort\n",
    "   - reverse\n",
    "   - copy"
   ]
  },
  {
   "cell_type": "code",
   "execution_count": 20,
   "metadata": {},
   "outputs": [
    {
     "name": "stdout",
     "output_type": "stream",
     "text": [
      "['the final empire', 'the well of scesion', 'the  hero of ages', 'godan']\n"
     ]
    }
   ],
   "source": [
    "books = []\n",
    "books.append(\"the final empire\")\n",
    "books.append(\"the well of scesion\")\n",
    "books.append(\"the  hero of ages\")\n",
    "books.append(\"godan\")\n",
    "print(books)"
   ]
  },
  {
   "cell_type": "code",
   "execution_count": 21,
   "metadata": {},
   "outputs": [
    {
     "name": "stdout",
     "output_type": "stream",
     "text": [
      "['the final empire', 'the way of king', 'the well of scesion', 'the  hero of ages', 'war of a radiance', 'godan']\n"
     ]
    }
   ],
   "source": [
    "books.insert(1, 'the way of king')\n",
    "books.insert(4, 'war of a radiance')\n",
    "print(books)"
   ]
  },
  {
   "cell_type": "code",
   "execution_count": 22,
   "metadata": {},
   "outputs": [
    {
     "name": "stdout",
     "output_type": "stream",
     "text": [
      "['twilight saga: new moon', 'twilight saga: eclipse', 'the wheel of time', 'the great hunt']\n"
     ]
    }
   ],
   "source": [
    "crappy_books =[\n",
    "    'twilight saga: new moon',\n",
    "    'twilight saga: eclipse',\n",
    "    'the wheel of time',\n",
    "    'the great hunt'\n",
    "]\n",
    "print(crappy_books)"
   ]
  },
  {
   "cell_type": "code",
   "execution_count": 23,
   "metadata": {},
   "outputs": [
    {
     "name": "stdout",
     "output_type": "stream",
     "text": [
      "['the final empire', 'the way of king', 'the well of scesion', 'the  hero of ages', 'war of a radiance', 'godan', 'twilight saga: new moon', 'twilight saga: eclipse', 'the wheel of time', 'the great hunt']\n"
     ]
    }
   ],
   "source": [
    "\n",
    "books.extend(crappy_books)\n",
    "print(books)"
   ]
  },
  {
   "cell_type": "code",
   "execution_count": 24,
   "metadata": {},
   "outputs": [],
   "source": [
    "num = [1,2,3,4,5,6,7]"
   ]
  },
  {
   "cell_type": "code",
   "execution_count": 25,
   "metadata": {},
   "outputs": [
    {
     "name": "stdout",
     "output_type": "stream",
     "text": [
      "[[1, 2, 3, 4, 5, 6, 7], [1, 2, 3, 4, 5, 6, 7], [1, 2, 3, 4, 5, 6, 7]]\n"
     ]
    }
   ],
   "source": [
    "num_matrix = [num, num, num]\n",
    "print(num_matrix)"
   ]
  },
  {
   "cell_type": "code",
   "execution_count": 26,
   "metadata": {},
   "outputs": [
    {
     "data": {
      "text/plain": [
       "['the final empire',\n",
       " 'the way of king',\n",
       " 'the well of scesion',\n",
       " 'the  hero of ages',\n",
       " 'war of a radiance',\n",
       " 'godan',\n",
       " 'twilight saga: new moon',\n",
       " 'twilight saga: eclipse',\n",
       " 'the wheel of time',\n",
       " 'the great hunt']"
      ]
     },
     "execution_count": 26,
     "metadata": {},
     "output_type": "execute_result"
    }
   ],
   "source": [
    "books"
   ]
  },
  {
   "cell_type": "code",
   "execution_count": 27,
   "metadata": {},
   "outputs": [
    {
     "name": "stdout",
     "output_type": "stream",
     "text": [
      "❌ warbaker not found in list\n"
     ]
    }
   ],
   "source": [
    "val_to_remove = \"warbaker\"\n",
    "if val_to_remove in books:\n",
    "    books.remove(val_to_remove)\n",
    "    print(f\"✅{val_to_remove} remove from remove\")\n",
    "else:\n",
    "    print(f\"❌ {val_to_remove} not found in list\")"
   ]
  },
  {
   "cell_type": "code",
   "execution_count": null,
   "metadata": {},
   "outputs": [],
   "source": []
  }
 ],
 "metadata": {
  "kernelspec": {
   "display_name": "Python 3",
   "language": "python",
   "name": "python3"
  },
  "language_info": {
   "codemirror_mode": {
    "name": "ipython",
    "version": 3
   },
   "file_extension": ".py",
   "mimetype": "text/x-python",
   "name": "python",
   "nbconvert_exporter": "python",
   "pygments_lexer": "ipython3",
   "version": "3.11.5"
  },
  "orig_nbformat": 4
 },
 "nbformat": 4,
 "nbformat_minor": 2
}
